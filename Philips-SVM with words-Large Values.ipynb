{
 "cells": [
  {
   "cell_type": "code",
   "execution_count": 1,
   "metadata": {
    "collapsed": false
   },
   "outputs": [],
   "source": [
    "import pandas as pd, numpy as np, seaborn as sns, matplotlib.pyplot as plt, re\n",
    "%matplotlib inline"
   ]
  },
  {
   "cell_type": "code",
   "execution_count": 2,
   "metadata": {
    "collapsed": true
   },
   "outputs": [],
   "source": [
    "df = pd.read_table(\"TRAIN_FILE.TXT\",sep='\\n',header=None)   #Reading txt train file provided in the sem eval task 8"
   ]
  },
  {
   "cell_type": "code",
   "execution_count": 3,
   "metadata": {
    "collapsed": false
   },
   "outputs": [
    {
     "data": {
      "text/html": [
       "<div>\n",
       "<table border=\"1\" class=\"dataframe\">\n",
       "  <thead>\n",
       "    <tr style=\"text-align: right;\">\n",
       "      <th></th>\n",
       "      <th>0</th>\n",
       "    </tr>\n",
       "  </thead>\n",
       "  <tbody>\n",
       "    <tr>\n",
       "      <th>0</th>\n",
       "      <td>1\\t\"The system as described above has its grea...</td>\n",
       "    </tr>\n",
       "    <tr>\n",
       "      <th>1</th>\n",
       "      <td>Component-Whole(e2,e1)</td>\n",
       "    </tr>\n",
       "    <tr>\n",
       "      <th>2</th>\n",
       "      <td>Comment: Not a collection: there is structure ...</td>\n",
       "    </tr>\n",
       "    <tr>\n",
       "      <th>3</th>\n",
       "      <td>2\\t\"The &lt;e1&gt;child&lt;/e1&gt; was carefully wrapped a...</td>\n",
       "    </tr>\n",
       "    <tr>\n",
       "      <th>4</th>\n",
       "      <td>Other</td>\n",
       "    </tr>\n",
       "  </tbody>\n",
       "</table>\n",
       "</div>"
      ],
      "text/plain": [
       "                                                   0\n",
       "0  1\\t\"The system as described above has its grea...\n",
       "1                             Component-Whole(e2,e1)\n",
       "2  Comment: Not a collection: there is structure ...\n",
       "3  2\\t\"The <e1>child</e1> was carefully wrapped a...\n",
       "4                                              Other"
      ]
     },
     "execution_count": 3,
     "metadata": {},
     "output_type": "execute_result"
    }
   ],
   "source": [
    "df.head()"
   ]
  },
  {
   "cell_type": "code",
   "execution_count": 4,
   "metadata": {
    "collapsed": false
   },
   "outputs": [],
   "source": [
    "train = pd.DataFrame({\"text\":df[0].iloc[::3].values,\"target\":df[0].iloc[1::3].values, \"comment\":df[0].iloc[2::3].values})"
   ]
  },
  {
   "cell_type": "code",
   "execution_count": 5,
   "metadata": {
    "collapsed": false
   },
   "outputs": [
    {
     "data": {
      "text/html": [
       "<div>\n",
       "<table border=\"1\" class=\"dataframe\">\n",
       "  <thead>\n",
       "    <tr style=\"text-align: right;\">\n",
       "      <th></th>\n",
       "      <th>comment</th>\n",
       "      <th>target</th>\n",
       "      <th>text</th>\n",
       "    </tr>\n",
       "  </thead>\n",
       "  <tbody>\n",
       "    <tr>\n",
       "      <th>0</th>\n",
       "      <td>Comment: Not a collection: there is structure ...</td>\n",
       "      <td>Component-Whole(e2,e1)</td>\n",
       "      <td>1\\t\"The system as described above has its grea...</td>\n",
       "    </tr>\n",
       "    <tr>\n",
       "      <th>1</th>\n",
       "      <td>Comment:</td>\n",
       "      <td>Other</td>\n",
       "      <td>2\\t\"The &lt;e1&gt;child&lt;/e1&gt; was carefully wrapped a...</td>\n",
       "    </tr>\n",
       "    <tr>\n",
       "      <th>2</th>\n",
       "      <td>Comment:</td>\n",
       "      <td>Instrument-Agency(e2,e1)</td>\n",
       "      <td>3\\t\"The &lt;e1&gt;author&lt;/e1&gt; of a keygen uses a &lt;e2...</td>\n",
       "    </tr>\n",
       "    <tr>\n",
       "      <th>3</th>\n",
       "      <td>Comment:</td>\n",
       "      <td>Other</td>\n",
       "      <td>4\\t\"A misty &lt;e1&gt;ridge&lt;/e1&gt; uprises from the &lt;e...</td>\n",
       "    </tr>\n",
       "    <tr>\n",
       "      <th>4</th>\n",
       "      <td>Comment:</td>\n",
       "      <td>Member-Collection(e1,e2)</td>\n",
       "      <td>5\\t\"The &lt;e1&gt;student&lt;/e1&gt; &lt;e2&gt;association&lt;/e2&gt; ...</td>\n",
       "    </tr>\n",
       "  </tbody>\n",
       "</table>\n",
       "</div>"
      ],
      "text/plain": [
       "                                             comment  \\\n",
       "0  Comment: Not a collection: there is structure ...   \n",
       "1                                           Comment:   \n",
       "2                                           Comment:   \n",
       "3                                           Comment:   \n",
       "4                                           Comment:   \n",
       "\n",
       "                     target                                               text  \n",
       "0    Component-Whole(e2,e1)  1\\t\"The system as described above has its grea...  \n",
       "1                     Other  2\\t\"The <e1>child</e1> was carefully wrapped a...  \n",
       "2  Instrument-Agency(e2,e1)  3\\t\"The <e1>author</e1> of a keygen uses a <e2...  \n",
       "3                     Other  4\\t\"A misty <e1>ridge</e1> uprises from the <e...  \n",
       "4  Member-Collection(e1,e2)  5\\t\"The <e1>student</e1> <e2>association</e2> ...  "
      ]
     },
     "execution_count": 5,
     "metadata": {},
     "output_type": "execute_result"
    }
   ],
   "source": [
    "train.head()"
   ]
  },
  {
   "cell_type": "code",
   "execution_count": 13,
   "metadata": {
    "collapsed": true
   },
   "outputs": [],
   "source": [
    "# RUN extractFirst  AND extractSecond FUNCTIONS BEFORE OTHER CLEANING METHODS"
   ]
  },
  {
   "cell_type": "code",
   "execution_count": 6,
   "metadata": {
    "collapsed": false
   },
   "outputs": [],
   "source": [
    "def extractFirst(t):\n",
    "    arr = [x.strip() for x in re.findall('<e1.*?>(.*)</e1>', t, re.MULTILINE | re.DOTALL)]\n",
    "    if len(arr)>0:\n",
    "        return arr[0]"
   ]
  },
  {
   "cell_type": "code",
   "execution_count": 7,
   "metadata": {
    "collapsed": true
   },
   "outputs": [],
   "source": [
    "def extractSecond(t):\n",
    "    arr = [x.strip() for x in re.findall('<e2.*?>(.*)</e2>', t, re.MULTILINE | re.DOTALL)]\n",
    "    if len(arr)>0:\n",
    "        return arr[0]"
   ]
  },
  {
   "cell_type": "code",
   "execution_count": 8,
   "metadata": {
    "collapsed": false
   },
   "outputs": [],
   "source": [
    "train[\"first\"]=train[\"text\"].apply(extractFirst)"
   ]
  },
  {
   "cell_type": "code",
   "execution_count": 9,
   "metadata": {
    "collapsed": false
   },
   "outputs": [],
   "source": [
    "train[\"second\"]=train[\"text\"].apply(extractSecond)"
   ]
  },
  {
   "cell_type": "code",
   "execution_count": 10,
   "metadata": {
    "collapsed": false
   },
   "outputs": [
    {
     "data": {
      "text/html": [
       "<div>\n",
       "<table border=\"1\" class=\"dataframe\">\n",
       "  <thead>\n",
       "    <tr style=\"text-align: right;\">\n",
       "      <th></th>\n",
       "      <th>comment</th>\n",
       "      <th>target</th>\n",
       "      <th>text</th>\n",
       "      <th>first</th>\n",
       "      <th>second</th>\n",
       "    </tr>\n",
       "  </thead>\n",
       "  <tbody>\n",
       "    <tr>\n",
       "      <th>0</th>\n",
       "      <td>Comment: Not a collection: there is structure ...</td>\n",
       "      <td>Component-Whole(e2,e1)</td>\n",
       "      <td>1\\t\"The system as described above has its grea...</td>\n",
       "      <td>configuration</td>\n",
       "      <td>elements</td>\n",
       "    </tr>\n",
       "    <tr>\n",
       "      <th>1</th>\n",
       "      <td>Comment:</td>\n",
       "      <td>Other</td>\n",
       "      <td>2\\t\"The &lt;e1&gt;child&lt;/e1&gt; was carefully wrapped a...</td>\n",
       "      <td>child</td>\n",
       "      <td>cradle</td>\n",
       "    </tr>\n",
       "    <tr>\n",
       "      <th>2</th>\n",
       "      <td>Comment:</td>\n",
       "      <td>Instrument-Agency(e2,e1)</td>\n",
       "      <td>3\\t\"The &lt;e1&gt;author&lt;/e1&gt; of a keygen uses a &lt;e2...</td>\n",
       "      <td>author</td>\n",
       "      <td>disassembler</td>\n",
       "    </tr>\n",
       "    <tr>\n",
       "      <th>3</th>\n",
       "      <td>Comment:</td>\n",
       "      <td>Other</td>\n",
       "      <td>4\\t\"A misty &lt;e1&gt;ridge&lt;/e1&gt; uprises from the &lt;e...</td>\n",
       "      <td>ridge</td>\n",
       "      <td>surge</td>\n",
       "    </tr>\n",
       "    <tr>\n",
       "      <th>4</th>\n",
       "      <td>Comment:</td>\n",
       "      <td>Member-Collection(e1,e2)</td>\n",
       "      <td>5\\t\"The &lt;e1&gt;student&lt;/e1&gt; &lt;e2&gt;association&lt;/e2&gt; ...</td>\n",
       "      <td>student</td>\n",
       "      <td>association</td>\n",
       "    </tr>\n",
       "  </tbody>\n",
       "</table>\n",
       "</div>"
      ],
      "text/plain": [
       "                                             comment  \\\n",
       "0  Comment: Not a collection: there is structure ...   \n",
       "1                                           Comment:   \n",
       "2                                           Comment:   \n",
       "3                                           Comment:   \n",
       "4                                           Comment:   \n",
       "\n",
       "                     target  \\\n",
       "0    Component-Whole(e2,e1)   \n",
       "1                     Other   \n",
       "2  Instrument-Agency(e2,e1)   \n",
       "3                     Other   \n",
       "4  Member-Collection(e1,e2)   \n",
       "\n",
       "                                                text          first  \\\n",
       "0  1\\t\"The system as described above has its grea...  configuration   \n",
       "1  2\\t\"The <e1>child</e1> was carefully wrapped a...          child   \n",
       "2  3\\t\"The <e1>author</e1> of a keygen uses a <e2...         author   \n",
       "3  4\\t\"A misty <e1>ridge</e1> uprises from the <e...          ridge   \n",
       "4  5\\t\"The <e1>student</e1> <e2>association</e2> ...        student   \n",
       "\n",
       "         second  \n",
       "0      elements  \n",
       "1        cradle  \n",
       "2  disassembler  \n",
       "3         surge  \n",
       "4   association  "
      ]
     },
     "execution_count": 10,
     "metadata": {},
     "output_type": "execute_result"
    }
   ],
   "source": [
    "train.head()"
   ]
  },
  {
   "cell_type": "code",
   "execution_count": 12,
   "metadata": {
    "collapsed": false
   },
   "outputs": [],
   "source": []
  },
  {
   "cell_type": "code",
   "execution_count": 11,
   "metadata": {
    "collapsed": false
   },
   "outputs": [],
   "source": [
    "def clean(t):\n",
    "    if not(t==\"Other\"):\n",
    "        return t[-7:]"
   ]
  },
  {
   "cell_type": "code",
   "execution_count": 12,
   "metadata": {
    "collapsed": true
   },
   "outputs": [],
   "source": [
    "train[\"direction\"]=train[\"target\"].apply(clean)"
   ]
  },
  {
   "cell_type": "code",
   "execution_count": 13,
   "metadata": {
    "collapsed": false
   },
   "outputs": [],
   "source": [
    "def clean2(t):\n",
    "    if not(t==\"Other\"):\n",
    "        return t[:-7]\n",
    "    else: return \"Other\""
   ]
  },
  {
   "cell_type": "code",
   "execution_count": 14,
   "metadata": {
    "collapsed": true
   },
   "outputs": [],
   "source": [
    "train[\"classification\"]=train[\"target\"].apply(clean2)"
   ]
  },
  {
   "cell_type": "code",
   "execution_count": 15,
   "metadata": {
    "collapsed": false
   },
   "outputs": [
    {
     "data": {
      "text/html": [
       "<div>\n",
       "<table border=\"1\" class=\"dataframe\">\n",
       "  <thead>\n",
       "    <tr style=\"text-align: right;\">\n",
       "      <th></th>\n",
       "      <th>comment</th>\n",
       "      <th>target</th>\n",
       "      <th>text</th>\n",
       "      <th>first</th>\n",
       "      <th>second</th>\n",
       "      <th>direction</th>\n",
       "      <th>classification</th>\n",
       "    </tr>\n",
       "  </thead>\n",
       "  <tbody>\n",
       "    <tr>\n",
       "      <th>0</th>\n",
       "      <td>Comment: Not a collection: there is structure ...</td>\n",
       "      <td>Component-Whole(e2,e1)</td>\n",
       "      <td>1\\t\"The system as described above has its grea...</td>\n",
       "      <td>configuration</td>\n",
       "      <td>elements</td>\n",
       "      <td>(e2,e1)</td>\n",
       "      <td>Component-Whole</td>\n",
       "    </tr>\n",
       "    <tr>\n",
       "      <th>1</th>\n",
       "      <td>Comment:</td>\n",
       "      <td>Other</td>\n",
       "      <td>2\\t\"The &lt;e1&gt;child&lt;/e1&gt; was carefully wrapped a...</td>\n",
       "      <td>child</td>\n",
       "      <td>cradle</td>\n",
       "      <td>None</td>\n",
       "      <td>Other</td>\n",
       "    </tr>\n",
       "    <tr>\n",
       "      <th>2</th>\n",
       "      <td>Comment:</td>\n",
       "      <td>Instrument-Agency(e2,e1)</td>\n",
       "      <td>3\\t\"The &lt;e1&gt;author&lt;/e1&gt; of a keygen uses a &lt;e2...</td>\n",
       "      <td>author</td>\n",
       "      <td>disassembler</td>\n",
       "      <td>(e2,e1)</td>\n",
       "      <td>Instrument-Agency</td>\n",
       "    </tr>\n",
       "    <tr>\n",
       "      <th>3</th>\n",
       "      <td>Comment:</td>\n",
       "      <td>Other</td>\n",
       "      <td>4\\t\"A misty &lt;e1&gt;ridge&lt;/e1&gt; uprises from the &lt;e...</td>\n",
       "      <td>ridge</td>\n",
       "      <td>surge</td>\n",
       "      <td>None</td>\n",
       "      <td>Other</td>\n",
       "    </tr>\n",
       "    <tr>\n",
       "      <th>4</th>\n",
       "      <td>Comment:</td>\n",
       "      <td>Member-Collection(e1,e2)</td>\n",
       "      <td>5\\t\"The &lt;e1&gt;student&lt;/e1&gt; &lt;e2&gt;association&lt;/e2&gt; ...</td>\n",
       "      <td>student</td>\n",
       "      <td>association</td>\n",
       "      <td>(e1,e2)</td>\n",
       "      <td>Member-Collection</td>\n",
       "    </tr>\n",
       "  </tbody>\n",
       "</table>\n",
       "</div>"
      ],
      "text/plain": [
       "                                             comment  \\\n",
       "0  Comment: Not a collection: there is structure ...   \n",
       "1                                           Comment:   \n",
       "2                                           Comment:   \n",
       "3                                           Comment:   \n",
       "4                                           Comment:   \n",
       "\n",
       "                     target  \\\n",
       "0    Component-Whole(e2,e1)   \n",
       "1                     Other   \n",
       "2  Instrument-Agency(e2,e1)   \n",
       "3                     Other   \n",
       "4  Member-Collection(e1,e2)   \n",
       "\n",
       "                                                text          first  \\\n",
       "0  1\\t\"The system as described above has its grea...  configuration   \n",
       "1  2\\t\"The <e1>child</e1> was carefully wrapped a...          child   \n",
       "2  3\\t\"The <e1>author</e1> of a keygen uses a <e2...         author   \n",
       "3  4\\t\"A misty <e1>ridge</e1> uprises from the <e...          ridge   \n",
       "4  5\\t\"The <e1>student</e1> <e2>association</e2> ...        student   \n",
       "\n",
       "         second direction     classification  \n",
       "0      elements   (e2,e1)    Component-Whole  \n",
       "1        cradle      None              Other  \n",
       "2  disassembler   (e2,e1)  Instrument-Agency  \n",
       "3         surge      None              Other  \n",
       "4   association   (e1,e2)  Member-Collection  "
      ]
     },
     "execution_count": 15,
     "metadata": {},
     "output_type": "execute_result"
    }
   ],
   "source": [
    "train.head()"
   ]
  },
  {
   "cell_type": "code",
   "execution_count": 16,
   "metadata": {
    "collapsed": false
   },
   "outputs": [],
   "source": [
    "#train.iloc[0][\"text\"].split(\"\\t\")[1][1:-1]"
   ]
  },
  {
   "cell_type": "code",
   "execution_count": 17,
   "metadata": {
    "collapsed": true
   },
   "outputs": [],
   "source": [
    "def clean3(t):\n",
    "    t=t.strip()\n",
    "    return t.split('\\t')[1][1:-1]"
   ]
  },
  {
   "cell_type": "code",
   "execution_count": 18,
   "metadata": {
    "collapsed": true
   },
   "outputs": [],
   "source": [
    "train[\"text\"]=train[\"text\"].apply(clean3)"
   ]
  },
  {
   "cell_type": "code",
   "execution_count": 19,
   "metadata": {
    "collapsed": false
   },
   "outputs": [],
   "source": [
    "def text_process(mess):\n",
    "    # Remove any punctuation\n",
    "    nopunc = [char for char in mess if char not in string.punctuation]\n",
    "\n",
    "    # Join the characters again to form the string.\n",
    "    nopunc = ''.join(nopunc)\n",
    "    \n",
    "    # Remove stopwords\n",
    "    return [word for word in nopunc.split() if word.lower() not in stopwords.words('english')]"
   ]
  },
  {
   "cell_type": "code",
   "execution_count": 20,
   "metadata": {
    "collapsed": true
   },
   "outputs": [],
   "source": [
    "import nltk,re,string\n",
    "from nltk.corpus import stopwords"
   ]
  },
  {
   "cell_type": "code",
   "execution_count": 21,
   "metadata": {
    "collapsed": true
   },
   "outputs": [],
   "source": [
    "def striphtml(data):\n",
    "    p = re.compile(r'<.*?>')\n",
    "    return p.sub('', data)"
   ]
  },
  {
   "cell_type": "code",
   "execution_count": 22,
   "metadata": {
    "collapsed": true
   },
   "outputs": [],
   "source": [
    "train[\"cleanText\"] = train[\"text\"].apply(striphtml)"
   ]
  },
  {
   "cell_type": "code",
   "execution_count": 23,
   "metadata": {
    "collapsed": false
   },
   "outputs": [
    {
     "data": {
      "text/html": [
       "<div>\n",
       "<table border=\"1\" class=\"dataframe\">\n",
       "  <thead>\n",
       "    <tr style=\"text-align: right;\">\n",
       "      <th></th>\n",
       "      <th>comment</th>\n",
       "      <th>target</th>\n",
       "      <th>text</th>\n",
       "      <th>first</th>\n",
       "      <th>second</th>\n",
       "      <th>direction</th>\n",
       "      <th>classification</th>\n",
       "      <th>cleanText</th>\n",
       "    </tr>\n",
       "  </thead>\n",
       "  <tbody>\n",
       "    <tr>\n",
       "      <th>0</th>\n",
       "      <td>Comment: Not a collection: there is structure ...</td>\n",
       "      <td>Component-Whole(e2,e1)</td>\n",
       "      <td>The system as described above has its greatest...</td>\n",
       "      <td>configuration</td>\n",
       "      <td>elements</td>\n",
       "      <td>(e2,e1)</td>\n",
       "      <td>Component-Whole</td>\n",
       "      <td>The system as described above has its greatest...</td>\n",
       "    </tr>\n",
       "    <tr>\n",
       "      <th>1</th>\n",
       "      <td>Comment:</td>\n",
       "      <td>Other</td>\n",
       "      <td>The &lt;e1&gt;child&lt;/e1&gt; was carefully wrapped and b...</td>\n",
       "      <td>child</td>\n",
       "      <td>cradle</td>\n",
       "      <td>None</td>\n",
       "      <td>Other</td>\n",
       "      <td>The child was carefully wrapped and bound into...</td>\n",
       "    </tr>\n",
       "    <tr>\n",
       "      <th>2</th>\n",
       "      <td>Comment:</td>\n",
       "      <td>Instrument-Agency(e2,e1)</td>\n",
       "      <td>The &lt;e1&gt;author&lt;/e1&gt; of a keygen uses a &lt;e2&gt;dis...</td>\n",
       "      <td>author</td>\n",
       "      <td>disassembler</td>\n",
       "      <td>(e2,e1)</td>\n",
       "      <td>Instrument-Agency</td>\n",
       "      <td>The author of a keygen uses a disassembler to ...</td>\n",
       "    </tr>\n",
       "    <tr>\n",
       "      <th>3</th>\n",
       "      <td>Comment:</td>\n",
       "      <td>Other</td>\n",
       "      <td>A misty &lt;e1&gt;ridge&lt;/e1&gt; uprises from the &lt;e2&gt;su...</td>\n",
       "      <td>ridge</td>\n",
       "      <td>surge</td>\n",
       "      <td>None</td>\n",
       "      <td>Other</td>\n",
       "      <td>A misty ridge uprises from the surge.</td>\n",
       "    </tr>\n",
       "    <tr>\n",
       "      <th>4</th>\n",
       "      <td>Comment:</td>\n",
       "      <td>Member-Collection(e1,e2)</td>\n",
       "      <td>The &lt;e1&gt;student&lt;/e1&gt; &lt;e2&gt;association&lt;/e2&gt; is t...</td>\n",
       "      <td>student</td>\n",
       "      <td>association</td>\n",
       "      <td>(e1,e2)</td>\n",
       "      <td>Member-Collection</td>\n",
       "      <td>The student association is the voice of the un...</td>\n",
       "    </tr>\n",
       "  </tbody>\n",
       "</table>\n",
       "</div>"
      ],
      "text/plain": [
       "                                             comment  \\\n",
       "0  Comment: Not a collection: there is structure ...   \n",
       "1                                           Comment:   \n",
       "2                                           Comment:   \n",
       "3                                           Comment:   \n",
       "4                                           Comment:   \n",
       "\n",
       "                     target  \\\n",
       "0    Component-Whole(e2,e1)   \n",
       "1                     Other   \n",
       "2  Instrument-Agency(e2,e1)   \n",
       "3                     Other   \n",
       "4  Member-Collection(e1,e2)   \n",
       "\n",
       "                                                text          first  \\\n",
       "0  The system as described above has its greatest...  configuration   \n",
       "1  The <e1>child</e1> was carefully wrapped and b...          child   \n",
       "2  The <e1>author</e1> of a keygen uses a <e2>dis...         author   \n",
       "3  A misty <e1>ridge</e1> uprises from the <e2>su...          ridge   \n",
       "4  The <e1>student</e1> <e2>association</e2> is t...        student   \n",
       "\n",
       "         second direction     classification  \\\n",
       "0      elements   (e2,e1)    Component-Whole   \n",
       "1        cradle      None              Other   \n",
       "2  disassembler   (e2,e1)  Instrument-Agency   \n",
       "3         surge      None              Other   \n",
       "4   association   (e1,e2)  Member-Collection   \n",
       "\n",
       "                                           cleanText  \n",
       "0  The system as described above has its greatest...  \n",
       "1  The child was carefully wrapped and bound into...  \n",
       "2  The author of a keygen uses a disassembler to ...  \n",
       "3              A misty ridge uprises from the surge.  \n",
       "4  The student association is the voice of the un...  "
      ]
     },
     "execution_count": 23,
     "metadata": {},
     "output_type": "execute_result"
    }
   ],
   "source": [
    "train.head()"
   ]
  },
  {
   "cell_type": "code",
   "execution_count": null,
   "metadata": {
    "collapsed": false
   },
   "outputs": [],
   "source": []
  },
  {
   "cell_type": "code",
   "execution_count": 24,
   "metadata": {
    "collapsed": true
   },
   "outputs": [],
   "source": [
    "from sklearn.model_selection import train_test_split"
   ]
  },
  {
   "cell_type": "code",
   "execution_count": 25,
   "metadata": {
    "collapsed": false
   },
   "outputs": [],
   "source": [
    "#X = train[[\"cleanText\",\"first\",\"second\"]]\n",
    "#y = train[\"classification\"]"
   ]
  },
  {
   "cell_type": "code",
   "execution_count": 26,
   "metadata": {
    "collapsed": true
   },
   "outputs": [],
   "source": [
    "X = train[[\"text\",\"first\",\"second\"]]\n",
    "y = train[\"classification\"]"
   ]
  },
  {
   "cell_type": "code",
   "execution_count": 27,
   "metadata": {
    "collapsed": false
   },
   "outputs": [],
   "source": [
    "from sklearn.feature_extraction.text import CountVectorizer"
   ]
  },
  {
   "cell_type": "code",
   "execution_count": 28,
   "metadata": {
    "collapsed": true
   },
   "outputs": [],
   "source": [
    "import scipy.sparse as sp"
   ]
  },
  {
   "cell_type": "code",
   "execution_count": 29,
   "metadata": {
    "collapsed": false
   },
   "outputs": [],
   "source": [
    "vect = CountVectorizer()"
   ]
  },
  {
   "cell_type": "code",
   "execution_count": 32,
   "metadata": {
    "collapsed": true
   },
   "outputs": [],
   "source": [
    "#For many columns we are running CountVectorizer() for each and then combining them into a single sparse matrix"
   ]
  },
  {
   "cell_type": "code",
   "execution_count": 33,
   "metadata": {
    "collapsed": false
   },
   "outputs": [],
   "source": [
    "X = sp.hstack(X.apply(lambda col: vect.fit_transform(col)))"
   ]
  },
  {
   "cell_type": "code",
   "execution_count": 34,
   "metadata": {
    "collapsed": false
   },
   "outputs": [],
   "source": [
    "from sklearn.feature_extraction.text import TfidfTransformer\n"
   ]
  },
  {
   "cell_type": "code",
   "execution_count": 35,
   "metadata": {
    "collapsed": true
   },
   "outputs": [],
   "source": [
    "tfidf_transformer = TfidfTransformer().fit(X)"
   ]
  },
  {
   "cell_type": "code",
   "execution_count": 36,
   "metadata": {
    "collapsed": false
   },
   "outputs": [],
   "source": [
    "X = tfidf_transformer.transform(X)"
   ]
  },
  {
   "cell_type": "code",
   "execution_count": 37,
   "metadata": {
    "collapsed": true
   },
   "outputs": [],
   "source": [
    "from sklearn.svm import SVC"
   ]
  },
  {
   "cell_type": "code",
   "execution_count": 38,
   "metadata": {
    "collapsed": true
   },
   "outputs": [],
   "source": [
    "X_train, X_test, y_train, y_test = train_test_split(X, y,test_size=0.3,random_state=101)"
   ]
  },
  {
   "cell_type": "code",
   "execution_count": 39,
   "metadata": {
    "collapsed": true
   },
   "outputs": [],
   "source": [
    "model = SVC(C= 400, gamma= 0.005, kernel= 'rbf')"
   ]
  },
  {
   "cell_type": "code",
   "execution_count": 40,
   "metadata": {
    "collapsed": false
   },
   "outputs": [
    {
     "data": {
      "text/plain": [
       "SVC(C=400, cache_size=200, class_weight=None, coef0=0.0,\n",
       "  decision_function_shape=None, degree=3, gamma=0.005, kernel='rbf',\n",
       "  max_iter=-1, probability=False, random_state=None, shrinking=True,\n",
       "  tol=0.001, verbose=False)"
      ]
     },
     "execution_count": 40,
     "metadata": {},
     "output_type": "execute_result"
    }
   ],
   "source": [
    "model.fit(X_train,y_train)"
   ]
  },
  {
   "cell_type": "code",
   "execution_count": 41,
   "metadata": {
    "collapsed": false
   },
   "outputs": [],
   "source": [
    "predictions = model.predict(X_test)"
   ]
  },
  {
   "cell_type": "code",
   "execution_count": 42,
   "metadata": {
    "collapsed": false
   },
   "outputs": [
    {
     "name": "stdout",
     "output_type": "stream",
     "text": [
      "                    precision    recall  f1-score   support\n",
      "\n",
      "      Cause-Effect       0.88      0.72      0.79       294\n",
      "   Component-Whole       0.56      0.59      0.57       266\n",
      " Content-Container       0.82      0.73      0.77       160\n",
      "Entity-Destination       0.80      0.79      0.79       239\n",
      "     Entity-Origin       0.60      0.72      0.66       215\n",
      " Instrument-Agency       0.67      0.44      0.53       165\n",
      " Member-Collection       0.65      0.59      0.62       202\n",
      "     Message-Topic       0.72      0.52      0.60       191\n",
      "             Other       0.34      0.52      0.41       441\n",
      "  Product-Producer       0.66      0.43      0.52       227\n",
      "\n",
      "       avg / total       0.64      0.60      0.61      2400\n",
      "\n"
     ]
    }
   ],
   "source": [
    "from sklearn.metrics import confusion_matrix,classification_report\n",
    "print(classification_report(y_test,predictions))"
   ]
  },
  {
   "cell_type": "code",
   "execution_count": 43,
   "metadata": {
    "collapsed": false
   },
   "outputs": [
    {
     "data": {
      "text/plain": [
       "1445"
      ]
     },
     "execution_count": 43,
     "metadata": {},
     "output_type": "execute_result"
    }
   ],
   "source": [
    "sum(y_test==predictions)"
   ]
  },
  {
   "cell_type": "code",
   "execution_count": 47,
   "metadata": {
    "collapsed": false
   },
   "outputs": [],
   "source": [
    "from sklearn.linear_model import SGDClassifier"
   ]
  },
  {
   "cell_type": "code",
   "execution_count": 48,
   "metadata": {
    "collapsed": true
   },
   "outputs": [],
   "source": [
    "model1 = SGDClassifier()"
   ]
  },
  {
   "cell_type": "code",
   "execution_count": 49,
   "metadata": {
    "collapsed": false
   },
   "outputs": [
    {
     "data": {
      "text/plain": [
       "SGDClassifier(alpha=0.0001, average=False, class_weight=None, epsilon=0.1,\n",
       "       eta0=0.0, fit_intercept=True, l1_ratio=0.15,\n",
       "       learning_rate='optimal', loss='hinge', n_iter=5, n_jobs=1,\n",
       "       penalty='l2', power_t=0.5, random_state=None, shuffle=True,\n",
       "       verbose=0, warm_start=False)"
      ]
     },
     "execution_count": 49,
     "metadata": {},
     "output_type": "execute_result"
    }
   ],
   "source": [
    "model1.fit(X_train,y_train)"
   ]
  },
  {
   "cell_type": "code",
   "execution_count": 50,
   "metadata": {
    "collapsed": false
   },
   "outputs": [],
   "source": [
    "predictions1 = model1.predict(X_test)"
   ]
  },
  {
   "cell_type": "code",
   "execution_count": 51,
   "metadata": {
    "collapsed": false
   },
   "outputs": [
    {
     "name": "stdout",
     "output_type": "stream",
     "text": [
      "                    precision    recall  f1-score   support\n",
      "\n",
      "      Cause-Effect       0.78      0.82      0.80       294\n",
      "   Component-Whole       0.60      0.56      0.58       266\n",
      " Content-Container       0.72      0.81      0.76       160\n",
      "Entity-Destination       0.72      0.86      0.78       239\n",
      "     Entity-Origin       0.58      0.80      0.68       215\n",
      " Instrument-Agency       0.59      0.54      0.57       165\n",
      " Member-Collection       0.63      0.72      0.67       202\n",
      "     Message-Topic       0.61      0.64      0.62       191\n",
      "             Other       0.41      0.30      0.35       441\n",
      "  Product-Producer       0.62      0.48      0.54       227\n",
      "\n",
      "       avg / total       0.61      0.62      0.61      2400\n",
      "\n"
     ]
    }
   ],
   "source": [
    "print(classification_report(y_test,predictions1))"
   ]
  },
  {
   "cell_type": "code",
   "execution_count": 52,
   "metadata": {
    "collapsed": false
   },
   "outputs": [
    {
     "data": {
      "text/plain": [
       "1497"
      ]
     },
     "execution_count": 52,
     "metadata": {},
     "output_type": "execute_result"
    }
   ],
   "source": [
    "sum(y_test==predictions1)"
   ]
  },
  {
   "cell_type": "code",
   "execution_count": 53,
   "metadata": {
    "collapsed": true
   },
   "outputs": [],
   "source": []
  },
  {
   "cell_type": "code",
   "execution_count": null,
   "metadata": {
    "collapsed": false
   },
   "outputs": [],
   "source": []
  },
  {
   "cell_type": "code",
   "execution_count": null,
   "metadata": {
    "collapsed": true
   },
   "outputs": [],
   "source": []
  }
 ],
 "metadata": {
  "anaconda-cloud": {},
  "kernelspec": {
   "display_name": "Python [conda root]",
   "language": "python",
   "name": "conda-root-py"
  },
  "language_info": {
   "codemirror_mode": {
    "name": "ipython",
    "version": 2
   },
   "file_extension": ".py",
   "mimetype": "text/x-python",
   "name": "python",
   "nbconvert_exporter": "python",
   "pygments_lexer": "ipython2",
   "version": "2.7.12"
  }
 },
 "nbformat": 4,
 "nbformat_minor": 2
}
